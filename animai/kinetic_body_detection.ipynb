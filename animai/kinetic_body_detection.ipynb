{
 "cells": [
  {
   "cell_type": "markdown",
   "metadata": {},
   "source": [
    "# Kinetic Body Detection\n",
    "\n",
    "Just some first steps using mediapipe\n",
    "\n",
    "- [X] Detection\n",
    "- [ ] Kinetic model export\n",
    "- [ ] Kinetic model import\n",
    "- [ ] Kinetic model analytics\n",
    "- [ ] Kinetic versus Planar versus Volumetric models?"
   ]
  },
  {
   "cell_type": "code",
   "execution_count": null,
   "metadata": {},
   "outputs": [],
   "source": [
    "# Install dependencies\n",
    "import sys\n",
    "!{sys.executable} -m pip install mediapipe opencv-python numpy\n",
    "\n",
    "# Mediapipe: https://google.github.io/mediapipe/solutions/solutions.html \n",
    "# OpenCV: https://docs.opencv.org/4.x/d6/d00/tutorial_py_root.html "
   ]
  },
  {
   "cell_type": "code",
   "execution_count": null,
   "metadata": {},
   "outputs": [],
   "source": [
    "# Setup dependencies\n",
    "import mediapipe as mp\n",
    "import cv2"
   ]
  },
  {
   "cell_type": "code",
   "execution_count": null,
   "metadata": {},
   "outputs": [],
   "source": [
    "# Setup basic necessities\n",
    "mp_holistic = mp.solutions.holistic\n",
    "mp_drawing = mp.solutions.drawing_utils"
   ]
  },
  {
   "cell_type": "code",
   "execution_count": null,
   "metadata": {},
   "outputs": [],
   "source": [
    "# Create video stream and detect motions\n",
    "vc = cv2.VideoCapture(0)\n",
    "with mp_holistic.Holistic(min_detection_confidence=0.5, min_tracking_confidence=0.5) as holistic:\n",
    "    while vc.isOpened():\n",
    "        ret, frame = vc.read()\n",
    "        image = cv2.cvtColor(frame, cv2.COLOR_BGR2RGB)\n",
    "\n",
    "        results = holistic.process(image)\n",
    "        \n",
    "        # TODO Remove redundant body landmarks\n",
    "        mp_drawing.draw_landmarks( image, results.face_landmarks, mp_holistic.FACEMESH_TESSELATION, \n",
    "            mp_drawing.DrawingSpec(color=(80,110,10),thickness=1, circle_radius=1),\n",
    "            mp_drawing.DrawingSpec(color=(80,256,121),thickness=1, circle_radius=1))\n",
    "        mp_drawing.draw_landmarks( image, results.left_hand_landmarks, mp_holistic.HAND_CONNECTIONS, \n",
    "            mp_drawing.DrawingSpec(color=(80,110,10),thickness=2, circle_radius=2),\n",
    "            mp_drawing.DrawingSpec(color=(80,256,121),thickness=2, circle_radius=2))\n",
    "        mp_drawing.draw_landmarks( image, results.right_hand_landmarks, mp_holistic.HAND_CONNECTIONS,\n",
    "            mp_drawing.DrawingSpec(color=(80,110,10),thickness=2, circle_radius=2),\n",
    "            mp_drawing.DrawingSpec(color=(80,256,121),thickness=2, circle_radius=2))\n",
    "        mp_drawing.draw_landmarks( image, results.pose_landmarks, mp_holistic.POSE_CONNECTIONS, \n",
    "            mp_drawing.DrawingSpec(color=(80,110,10),thickness=2, circle_radius=4),\n",
    "            mp_drawing.DrawingSpec(color=(80,256,121),thickness=2, circle_radius=4))\n",
    "        \n",
    "        image = cv2.cvtColor(image, cv2.COLOR_RGB2BGR)\n",
    "\n",
    "        cv2.imshow('AnimAI Stream', image)\n",
    "        if cv2.waitKey(10) & 0xFF == ord('q'):\n",
    "            break\n",
    "\n",
    "    vc.release()\n",
    "    cv2.destroyAllWindows()"
   ]
  },
  {
   "cell_type": "code",
   "execution_count": null,
   "metadata": {},
   "outputs": [],
   "source": [
    "# TODO Export landmarks recorded during stream"
   ]
  }
 ],
 "metadata": {
  "kernelspec": {
   "display_name": "Python 3.10.7 64-bit (microsoft store)",
   "language": "python",
   "name": "python3"
  },
  "language_info": {
   "codemirror_mode": {
    "name": "ipython",
    "version": 3
   },
   "file_extension": ".py",
   "mimetype": "text/x-python",
   "name": "python",
   "nbconvert_exporter": "python",
   "pygments_lexer": "ipython3",
   "version": "3.10.8"
  },
  "orig_nbformat": 4,
  "vscode": {
   "interpreter": {
    "hash": "3e2b2785e650337f79381cd4c5df08c4d5dc4623a6a0d2da7e01465b331d0fcc"
   }
  }
 },
 "nbformat": 4,
 "nbformat_minor": 2
}
